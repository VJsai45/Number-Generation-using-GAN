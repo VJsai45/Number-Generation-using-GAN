{
  "nbformat": 4,
  "nbformat_minor": 0,
  "metadata": {
    "colab": {
      "name": "GAN_Implementation.ipynb",
      "provenance": [],
      "collapsed_sections": [],
      "authorship_tag": "ABX9TyPvvXTKJG54bk+RvQoEaL/P",
      "include_colab_link": true
    },
    "kernelspec": {
      "name": "python3",
      "display_name": "Python 3"
    },
    "accelerator": "GPU"
  },
  "cells": [
    {
      "cell_type": "markdown",
      "metadata": {
        "id": "view-in-github",
        "colab_type": "text"
      },
      "source": [
        "<a href=\"https://colab.research.google.com/github/VJsai45/Number-Generation-using-GAN/blob/main/GAN_Implementation.ipynb\" target=\"_parent\"><img src=\"https://colab.research.google.com/assets/colab-badge.svg\" alt=\"Open In Colab\"/></a>"
      ]
    },
    {
      "cell_type": "code",
      "metadata": {
        "id": "-zpsqZwME9Uf"
      },
      "source": [
        "import tensorflow as tf\n",
        "import numpy as np\n",
        "import matplotlib.pyplot as plt\n",
        "import torch"
      ],
      "execution_count": null,
      "outputs": []
    },
    {
      "cell_type": "code",
      "metadata": {
        "id": "PqzPa8PDFmFT"
      },
      "source": [
        "mnist = tf.keras.datasets.fashion_mnist\n",
        "(x_train, y_train), (x_test, y_test) = mnist.load_data()\n",
        "\n"
      ],
      "execution_count": null,
      "outputs": []
    },
    {
      "cell_type": "code",
      "metadata": {
        "id": "yCtryyPKg7Nq"
      },
      "source": [
        "model = tf.keras.models.Sequential([\n",
        "  tf.keras.layers.Flatten(input_shape=(28,28)),\n",
        "  tf.keras.layers.Dense(128,activation='relu'),\n",
        "  tf.keras.layers.Dense(128,activation='relu'),\n",
        "  tf.keras.layers.Dense(128,activation='relu'),\n",
        "  tf.keras.layers.Dense(10,activation='softmax'),                                    \n",
        "])\n",
        "\n",
        "model.compile(optimizer='adam', \n",
        "              loss='sparse_categorical_crossentropy',\n",
        "            metrics=['accuracy'])\n"
      ],
      "execution_count": null,
      "outputs": []
    },
    {
      "cell_type": "code",
      "metadata": {
        "id": "P6f4KjLMoqjz"
      },
      "source": [
        "from google.colab import drive\n",
        "drive.mount('/content/gdrive')\n",
        "!ls /content/gdrive/My\\ Drive\n",
        "\n",
        "model_save_name = 'Test saving'\n",
        "path = F\"/content/gdrive/My Drive/\"+model_save_name\n",
        "model.save(path)"
      ],
      "execution_count": null,
      "outputs": []
    },
    {
      "cell_type": "code",
      "metadata": {
        "id": "p9toG-_Nr8W8"
      },
      "source": [
        "saved_model = tf.keras.models.load_model(path)\n"
      ],
      "execution_count": null,
      "outputs": []
    },
    {
      "cell_type": "code",
      "metadata": {
        "id": "UWn996Eyros6",
        "colab": {
          "base_uri": "https://localhost:8080/",
          "height": 385
        },
        "outputId": "fc5e63aa-2d28-4785-a177-d67007b73b3e"
      },
      "source": [
        "# Add a validatin set\n",
        "history = model.fit(x=x_train,y=y_train, validation_data=(x_test,y_test),epochs=2)\n",
        "\n",
        "# Get stats from history object\n",
        "acc = history.history['accuracy']\n",
        "val_acc = history.history['val_accuracy']\n",
        "epochs = range(len(acc))\n",
        "\n",
        "# Plot accuracy vs epochs\n",
        "plt.title('Training and validation accuracy')\n",
        "plt.plot(epochs,acc,color='blue', label='Train')\n",
        "plt.plot(epochs,val_acc,color='red', label='Val')\n",
        "plt.xlabel('Epoch')\n",
        "plt.ylabel('Accuracy')                                                                                    \n",
        "plt.legend()\n"
      ],
      "execution_count": null,
      "outputs": [
        {
          "output_type": "stream",
          "text": [
            "Epoch 1/2\n",
            "1875/1875 [==============================] - 5s 3ms/step - loss: 1.3462 - accuracy: 0.7524 - val_loss: 0.6089 - val_accuracy: 0.7824\n",
            "Epoch 2/2\n",
            "1875/1875 [==============================] - 5s 2ms/step - loss: 0.5314 - accuracy: 0.8167 - val_loss: 0.5383 - val_accuracy: 0.8258\n"
          ],
          "name": "stdout"
        },
        {
          "output_type": "execute_result",
          "data": {
            "text/plain": [
              "<matplotlib.legend.Legend at 0x7f06c6de0080>"
            ]
          },
          "metadata": {
            "tags": []
          },
          "execution_count": 9
        },
        {
          "output_type": "display_data",
          "data": {
            "image/png": "[encoded data removed]",
            "text/plain": [
              "<Figure size 432x288 with 1 Axes>"
            ]
          },
          "metadata": {
            "tags": [],
            "needs_background": "light"
          }
        }
      ]
    },
    {
      "cell_type": "code",
      "metadata": {
        "id": "XgrI3-bNKKCG"
      },
      "source": [
        "# Image Classification\n",
        "\n",
        "fashion_mnist = tf.keras.datasets.fashion_mnist\n",
        "\n",
        "(train_images, train_labels), (test_images, test_labels) = fashion_mnist.load_data()\n",
        "\n",
        "class_names = ['T-shirt/top','Trouser','Pullover','Dress','Coat','Sandal','Shirt','Sneaker','Bag','Ankle boot']\n",
        "\n",
        "print(train_images.shape)"
      ],
      "execution_count": null,
      "outputs": []
    },
    {
      "cell_type": "code",
      "metadata": {
        "id": "RCcB9tpWPc5V"
      },
      "source": [
        "plt.figure()\n",
        "plt.imshow(train_images[00])\n",
        "plt.colorbar()\n",
        "plt.show()"
      ],
      "execution_count": null,
      "outputs": []
    },
    {
      "cell_type": "code",
      "metadata": {
        "id": "_8-MjybuQDEE"
      },
      "source": [
        "train_images = train_images/255.0\n",
        "test_images = test_images/255.0\n",
        "\n"
      ],
      "execution_count": null,
      "outputs": []
    },
    {
      "cell_type": "code",
      "metadata": {
        "id": "I8dbv_PfRH3c"
      },
      "source": [
        "plt.figure(figsize=(10,10))\n",
        "for i in range(36):\n",
        "  plt.subplot(6,6,i+1)\n",
        "  plt.xticks([])\n",
        "  plt.yticks([])\n",
        "  plt.imshow(train_images[i],cmap=plt.cm.binary)\n",
        "  plt.xlabel(class_names[train_labels[i]])\n"
      ],
      "execution_count": null,
      "outputs": []
    },
    {
      "cell_type": "code",
      "metadata": {
        "id": "32w_BzY9Hxdz"
      },
      "source": [
        "## Actual Implementation GAN\n",
        "import tensorflow as tf\n",
        "import glob\n",
        "import imageio\n",
        "import matplotlib.pyplot as plt\n",
        "import numpy as np\n",
        "import os\n",
        "import PIL\n",
        "import time \n",
        "from IPython import display"
      ],
      "execution_count": null,
      "outputs": []
    },
    {
      "cell_type": "code",
      "metadata": {
        "id": "5sA0KoeN1tgN"
      },
      "source": [
        "(train_images, train_labels), (_, _) = tf.keras.datasets.mnist.load_data()\n",
        "print(train_images.shape)"
      ],
      "execution_count": null,
      "outputs": []
    },
    {
      "cell_type": "code",
      "metadata": {
        "id": "ySCAyo2L2DAP"
      },
      "source": [
        "train_images = train_images.reshape(train_images.shape[0],28,28,1).astype('float32')\n",
        "print(train_images.shape)\n",
        "train_images = (train_images - 127.5) / 127.5"
      ],
      "execution_count": null,
      "outputs": []
    },
    {
      "cell_type": "code",
      "metadata": {
        "id": "6jqSPcXMiAHP"
      },
      "source": [
        "BUFFER_SIZE = 60000\n",
        "BATCH_SIZE = 256\n",
        "\n",
        "#train_images = tf.slice(train_images,[0,0,0,0],[12000,28,28,1])\n",
        "\n",
        "# Batch and shuffle the data\n",
        "train_dataset = tf.data.Dataset.from_tensor_slices(train_images).shuffle(BUFFER_SIZE).batch(BATCH_SIZE)\n",
        "\n"
      ],
      "execution_count": null,
      "outputs": []
    },
    {
      "cell_type": "code",
      "metadata": {
        "id": "87wZr_xL4PYC"
      },
      "source": [
        "def make_generator_model():\n",
        "    model = tf.keras.Sequential()\n",
        "    model.add(tf.keras.layers.Dense(7*7*256, use_bias=False, input_shape=(100,)))\n",
        "    model.add(tf.keras.layers.BatchNormalization())\n",
        "    model.add(tf.keras.layers.LeakyReLU())\n",
        "\n",
        "    model.add(tf.keras.layers.Reshape((7, 7, 256)))\n",
        "    #assert model.output_shape == (None, 7, 7, 256) # Note: None is the batch size\n",
        "\n",
        "    model.add(tf.keras.layers.Conv2DTranspose(128, (5, 5), strides=(1, 1), padding='same', use_bias=False))\n",
        "   # assert model.output_shape == (None, 7, 7, 128)\n",
        "    model.add(tf.keras.layers.BatchNormalization())\n",
        "    model.add(tf.keras.layers.LeakyReLU())\n",
        "\n",
        "    model.add(tf.keras.layers.Conv2DTranspose(64, (5, 5), strides=(2, 2), padding='same', use_bias=False))\n",
        "   # assert model.output_shape == (None, 14, 14, 64)\n",
        "    model.add(tf.keras.layers.BatchNormalization())\n",
        "    model.add(tf.keras.layers.LeakyReLU())\n",
        "\n",
        "    model.add(tf.keras.layers.Conv2DTranspose(1, (5, 5), strides=(2, 2), padding='same', use_bias=False, activation= tf.keras.activations.tanh))\n",
        "   # assert model.output_shape == (None, 28, 28, 1)\n",
        "\n",
        "    return model"
      ],
      "execution_count": null,
      "outputs": []
    },
    {
      "cell_type": "code",
      "metadata": {
        "id": "w1YSbPlC6wVt"
      },
      "source": [
        "generator = make_generator_model()\n",
        "noise = tf.random.normal([1,100])\n",
        "\n",
        "generated_image = generator(noise, training=False)\n",
        "\n",
        "plt.imshow(generated_image[0,:,:,0], cmap='gray')\n"
      ],
      "execution_count": null,
      "outputs": []
    },
    {
      "cell_type": "code",
      "metadata": {
        "id": "tiAUVI3jSH53"
      },
      "source": [
        "def make_discriminator_model():\n",
        "    model = tf.keras.Sequential()\n",
        "    model.add(tf.keras.layers.Conv2D(64, (5, 5), strides=(2, 2), padding='same',\n",
        "                                     input_shape=[28, 28, 1]))\n",
        "    model.add(tf.keras.layers.LeakyReLU())\n",
        "    model.add(tf.keras.layers.Dropout(0.3))\n",
        "    print(model.output_shape)\n",
        "    model.add(tf.keras.layers.Conv2D(128, (5, 5), strides=(2, 2), padding='same'))\n",
        "    model.add(tf.keras.layers.LeakyReLU())\n",
        "    model.add(tf.keras.layers.Dropout(0.3))\n",
        "    print(model.output_shape)\n",
        "    model.add(tf.keras.layers.Flatten())\n",
        "    print(model.output_shape)\n",
        "    model.add(tf.keras.layers.Dense(1))\n",
        "    print(model.output_shape)\n",
        "    return model"
      ],
      "execution_count": null,
      "outputs": []
    },
    {
      "cell_type": "code",
      "metadata": {
        "id": "pCRTb2-TS3Em",
        "colab": {
          "base_uri": "https://localhost:8080/",
          "height": 126
        },
        "outputId": "4778a5ce-f13a-49a4-a5dd-977aaf214d73"
      },
      "source": [
        "discriminator = make_discriminator_model()\n",
        "decision = discriminator(generated_image)\n",
        "print(generated_image[0].shape)\n",
        "print(decision)\n"
      ],
      "execution_count": null,
      "outputs": [
        {
          "output_type": "stream",
          "text": [
            "(None, 14, 14, 64)\n",
            "(None, 7, 7, 128)\n",
            "(None, 6272)\n",
            "(None, 1)\n",
            "(28, 28, 1)\n",
            "tf.Tensor([[0.00148673]], shape=(1, 1), dtype=float32)\n"
          ],
          "name": "stdout"
        }
      ]
    },
    {
      "cell_type": "code",
      "metadata": {
        "id": "ZYSB4wVnTA_X"
      },
      "source": [
        "crossEntropy = tf.keras.losses.BinaryCrossentropy(from_logits='true')\n"
      ],
      "execution_count": null,
      "outputs": []
    },
    {
      "cell_type": "code",
      "metadata": {
        "id": "YXl7z2DLJxER"
      },
      "source": [
        "def discriminator_loss(real_output,fake_output):\n",
        "  real_loss = crossEntropy(tf.ones_like(real_output),real_output)\n",
        "  fake_loss = crossEntropy(tf.zeros_like(fake_output),fake_output)\n",
        "  total_loss = real_loss + fake_loss\n",
        "  return total_loss\n"
      ],
      "execution_count": null,
      "outputs": []
    },
    {
      "cell_type": "code",
      "metadata": {
        "id": "oX6wRjtdLSL1"
      },
      "source": [
        "def generator_loss(fake_output):\n",
        "  loss = crossEntropy(tf.ones_like(fake_output),fake_output)\n",
        "  return loss\n"
      ],
      "execution_count": null,
      "outputs": []
    },
    {
      "cell_type": "code",
      "metadata": {
        "id": "AOFddABaLjhh"
      },
      "source": [
        "generator_optimizer = tf.keras.optimizers.Adam(1e-4)\n",
        "discriminator_optimizer = tf.keras.optimizers.Adam(1e-4)\n"
      ],
      "execution_count": null,
      "outputs": []
    },
    {
      "cell_type": "code",
      "metadata": {
        "id": "I-iOOJTJMwd_"
      },
      "source": [
        "checkpoint_dir = './training_checkpoints'\n",
        "checkpoint_prefix = os.path.join(checkpoint_dir, \"ckpt\")\n",
        "checkpoint = tf.train.Checkpoint(generator_optimizer=generator_optimizer,\n",
        "                                 discriminator_optimizer=discriminator_optimizer,\n",
        "                                 generator=generator,\n",
        "                                 discriminator=discriminator)"
      ],
      "execution_count": null,
      "outputs": []
    },
    {
      "cell_type": "code",
      "metadata": {
        "id": "Ek4MWqCLP6YX",
        "colab": {
          "base_uri": "https://localhost:8080/",
          "height": 35
        },
        "outputId": "cf9edf47-ea2e-4ef3-f986-a17fdfa18d66"
      },
      "source": [
        "EPOCHS = 100\n",
        "noise_dim = 100\n",
        "num_examples_to_generate = 16\n",
        "\n",
        "seed = tf.random.normal([num_examples_to_generate,noise_dim])\n"
      ],
      "execution_count": null,
      "outputs": [
        {
          "output_type": "execute_result",
          "data": {
            "text/plain": [
              "<tensorflow.python.keras.engine.sequential.Sequential at 0x7f37b13f5198>"
            ]
          },
          "metadata": {
            "tags": []
          },
          "execution_count": 9
        }
      ]
    },
    {
      "cell_type": "code",
      "metadata": {
        "id": "IPY7unKBjQrP"
      },
      "source": [
        "@tf.function\n",
        "def train_step(images):\n",
        "  noise = tf.random.normal([BATCH_SIZE,noise_dim])\n",
        "  with tf.GradientTape() as gen_tape, tf.GradientTape() as disc_tape:\n",
        "    gen_fake_output = generator(noise,training =True)\n",
        "    disc_real_output = discriminator(images,training =True)\n",
        "    disc_fake_output = discriminator(gen_fake_output,training =True)\n",
        "\n",
        "    gen_loss = generator_loss(disc_fake_output)\n",
        "    disc_loss = discriminator_loss(disc_real_output,disc_fake_output)\n",
        "    \n",
        "\n",
        "  gradients_of_generator = gen_tape.gradient(gen_loss,generator.trainable_variables)\n",
        "  gradients_of_discriminator = disc_tape.gradient(disc_loss,discriminator.trainable_variables)\n",
        "  \n",
        "  generator_optimizer.apply_gradients(zip(gradients_of_generator,generator.trainable_variables))\n",
        "  discriminator_optimizer.apply_gradients(zip(gradients_of_discriminator,discriminator.trainable_variables))\n",
        "\n",
        "    "
      ],
      "execution_count": null,
      "outputs": []
    },
    {
      "cell_type": "code",
      "metadata": {
        "id": "ztu4liGWkF8f"
      },
      "source": [
        "def train(dataset,epochs):\n",
        "  for epoch in range(epochs):\n",
        "    start = time.time()\n",
        "    counter=0;\n",
        "   \n",
        "    for image_batch in dataset:\n",
        "      train_step(image_batch)\n",
        "      counter+=1\n",
        "      print ('Time for epoch {} is {} sec'.format(epoch + 1, time.time()-start),counter)\n",
        "      # Produce images fot the GIF as we go\n",
        "      display.clear_output(wait=True)\n",
        "      generate_and_save_images(generator,\n",
        "                             epoch + 1,\n",
        "                             seed)\n",
        "    # Save the model every 15 epochs\n",
        "    if (epoch + 1) % 10 == 0:\n",
        "      checkpoint.save(file_prefix = checkpoint_prefix)\n",
        "    model_name_1 = 'Gan_Generator_MNIST'\n",
        "    model_name_2 = 'Gan_Discriminator_MNIST'\n",
        "    path1 = F\"/content/gdrive/My Drive/\"+model_name_1\n",
        "    path2 = F\"/content/gdrive/My Drive/\"+model_name_2\n",
        "    generator.save(path1)\n",
        "    discriminator.save(path2)\n",
        "    \n",
        "\n",
        "  # Generate after the final epoch\n",
        "  display.clear_output(wait=True)\n",
        "  generate_and_save_images(generator,\n",
        "                           epochs,\n",
        "                           seed)\n",
        "  "
      ],
      "execution_count": null,
      "outputs": []
    },
    {
      "cell_type": "code",
      "metadata": {
        "id": "Q8zUIxnffQDQ"
      },
      "source": [
        "def generate_and_save_images(model, epoch, test_input):\n",
        "  # Notice `training` is set to False.\n",
        "  # This is so all layers run in inference mode (batchnorm).\n",
        "  predictions = model(test_input, training=False)\n",
        "\n",
        "  fig = plt.figure(figsize=(4,4))\n",
        "\n",
        "  for i in range(predictions.shape[0]):\n",
        "      plt.subplot(4, 4, i+1)\n",
        "      plt.imshow(predictions[i, :, :, 0] * 127.5 + 127.5, cmap='gray')\n",
        "      plt.axis('off')\n",
        "      plt.title(i)\n",
        "\n",
        "  plt.savefig('image_at_epoch_{:04d}.png'.format(epoch))\n",
        "  plt.show()\n",
        "  return predictions"
      ],
      "execution_count": null,
      "outputs": []
    },
    {
      "cell_type": "code",
      "metadata": {
        "id": "Ea38K8jOfe4Q",
        "colab": {
          "base_uri": "https://localhost:8080/",
          "height": 248
        },
        "outputId": "344f1c56-0b0f-4353-c253-785aa25acdd2"
      },
      "source": [
        "print(generator.metrics)\n",
        "train(train_dataset, EPOCHS)\n"
      ],
      "execution_count": null,
      "outputs": [
        {
          "output_type": "display_data",
          "data": {
            "image/png": "[encoded data removed]",
            "text/plain": [
              "<Figure size 288x288 with 16 Axes>"
            ]
          },
          "metadata": {
            "tags": [],
            "needs_background": "light"
          }
        }
      ]
    },
    {
      "cell_type": "code",
      "metadata": {
        "id": "1pWAIDlMc_8j"
      },
      "source": [
        "anim_file = 'dcgan.gif'\n",
        "\n",
        "with imageio.get_writer(anim_file, mode='I') as writer:\n",
        "  filenames = glob.glob('image*.png')\n",
        "  filenames = sorted(filenames)\n",
        "  last = -1\n",
        "  for i,filename in enumerate(filenames):\n",
        "    frame = 2*(i**0.5)\n",
        "    if round(frame) > round(last):\n",
        "      last = frame\n",
        "    else:\n",
        "      continue\n",
        "    image = imageio.imread(filename)\n",
        "    writer.append_data(image)\n",
        "  image = imageio.imread(filename)\n",
        "  writer.append_data(image)\n",
        "\n",
        "import IPython\n",
        "if IPython.version_info > (6,2,0,''):\n",
        "  display.Image(filename=anim_file)"
      ],
      "execution_count": null,
      "outputs": []
    },
    {
      "cell_type": "code",
      "metadata": {
        "id": "EXyK8HDzPYPt"
      },
      "source": [
        "try:\n",
        "  from google.colab import files\n",
        "except ImportError:\n",
        "   pass\n",
        "else:\n",
        "  files.download(anim_file)"
      ],
      "execution_count": null,
      "outputs": []
    },
    {
      "cell_type": "code",
      "metadata": {
        "id": "fCDw3O8lMNnB",
        "colab": {
          "base_uri": "https://localhost:8080/",
          "height": 609
        },
        "outputId": "3670ffe1-3301-48a7-d27e-3eb50be53dd3"
      },
      "source": [
        "\n",
        "from google.colab import drive\n",
        "drive.mount('/content/gdrive')\n",
        "\n",
        "model_name_1 = 'Gan_Generator_MNIST'\n",
        "path1 = F\"/content/gdrive/My Drive/\"+model_name_1\n",
        "model_name_2 = 'Gan_Discriminator_MNIST'\n",
        "path2 = F\"/content/gdrive/My Drive/\"+model_name_2\n",
        "saved_generator = tf.keras.models.load_model(path1)\n",
        "saved_discriminator = tf.keras.models.load_model(path2)\n",
        "saved_generator.compile(optimizer=tf.keras.optimizers.Adam(1e-4),loss=tf.keras.losses.BinaryCrossentropy(from_logits='true'),metrics=['accuracy'])\n",
        "saved_discriminator.compile(optimizer=tf.keras.optimizers.Adam(1e-4),loss=tf.keras.losses.BinaryCrossentropy(from_logits='true'),metrics=['accuracy'])\n",
        "test_noise = tf.random.normal([16,100])\n",
        "generated_images  = generate_and_save_images(saved_generator,\n",
        "                           0,\n",
        "                           test_noise)\n",
        "disc_predictions =  saved_discriminator(generated_images,training = False)\n",
        "disc = disc_predictions.numpy()\n",
        "#disc = np.where(disc > 0.1,1,0)\n",
        "print(disc)"
      ],
      "execution_count": null,
      "outputs": [
        {
          "output_type": "stream",
          "text": [
            "Drive already mounted at /content/gdrive; to attempt to forcibly remount, call drive.mount(\"/content/gdrive\", force_remount=True).\n",
            "WARNING:tensorflow:No training configuration found in save file, so the model was *not* compiled. Compile it manually.\n",
            "WARNING:tensorflow:No training configuration found in save file, so the model was *not* compiled. Compile it manually.\n"
          ],
          "name": "stdout"
        },
        {
          "output_type": "display_data",
          "data": {
            "image/png": "[encoded data removed]",
            "text/plain": [
              "<Figure size 288x288 with 16 Axes>"
            ]
          },
          "metadata": {
            "tags": [],
            "needs_background": "light"
          }
        },
        {
          "output_type": "stream",
          "text": [
            "[[-0.35391232]\n",
            " [-0.5188239 ]\n",
            " [-0.4991779 ]\n",
            " [-0.7210972 ]\n",
            " [-1.2407092 ]\n",
            " [-0.19007261]\n",
            " [ 0.21949063]\n",
            " [-0.32907143]\n",
            " [-0.01464611]\n",
            " [ 0.00263508]\n",
            " [-0.7724729 ]\n",
            " [ 0.028739  ]\n",
            " [-0.582188  ]\n",
            " [-0.01553669]\n",
            " [ 0.34148172]\n",
            " [-0.40846214]]\n"
          ],
          "name": "stdout"
        }
      ]
    }
  ]
}